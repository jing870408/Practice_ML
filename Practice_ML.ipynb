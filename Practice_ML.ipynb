{
 "cells": [
  {
   "cell_type": "code",
   "execution_count": 1,
   "metadata": {},
   "outputs": [],
   "source": [
    "import pandas as pd\n",
    "import numpy as np\n",
    "import matplotlib as plt\n",
    "import seaborn as sns"
   ]
  },
  {
   "cell_type": "code",
   "execution_count": 2,
   "metadata": {},
   "outputs": [],
   "source": [
    "df = pd.read_csv('C:/Users/lin87/Desktop/dataF.csv')"
   ]
  },
  {
   "cell_type": "code",
   "execution_count": 5,
   "metadata": {},
   "outputs": [],
   "source": [
    "from sklearn.model_selection import train_test_split"
   ]
  },
  {
   "cell_type": "code",
   "execution_count": 6,
   "metadata": {},
   "outputs": [],
   "source": [
    "X = df.drop('評估',axis = 1)\n",
    "y = df['評估']"
   ]
  },
  {
   "cell_type": "code",
   "execution_count": 7,
   "metadata": {},
   "outputs": [],
   "source": [
    "X_train,x_test,y_train,y_test = train_test_split(X,y,test_size = 0.3,random_state = 101)"
   ]
  },
  {
   "cell_type": "code",
   "execution_count": 8,
   "metadata": {},
   "outputs": [],
   "source": [
    "from sklearn.tree import DecisionTreeClassifier"
   ]
  },
  {
   "cell_type": "code",
   "execution_count": 9,
   "metadata": {},
   "outputs": [
    {
     "data": {
      "text/plain": [
       "DecisionTreeClassifier(class_weight=None, criterion='gini', max_depth=None,\n",
       "            max_features=None, max_leaf_nodes=None,\n",
       "            min_impurity_decrease=0.0, min_impurity_split=None,\n",
       "            min_samples_leaf=1, min_samples_split=2,\n",
       "            min_weight_fraction_leaf=0.0, presort=False, random_state=None,\n",
       "            splitter='best')"
      ]
     },
     "execution_count": 9,
     "metadata": {},
     "output_type": "execute_result"
    }
   ],
   "source": [
    "dtree = DecisionTreeClassifier()\n",
    "dtree.fit(X_train,y_train)"
   ]
  },
  {
   "cell_type": "code",
   "execution_count": 10,
   "metadata": {},
   "outputs": [],
   "source": [
    "predictions = dtree.predict(x_test)"
   ]
  },
  {
   "cell_type": "code",
   "execution_count": 11,
   "metadata": {},
   "outputs": [],
   "source": [
    "from sklearn.metrics import classification_report,confusion_matrix"
   ]
  },
  {
   "cell_type": "code",
   "execution_count": 12,
   "metadata": {},
   "outputs": [
    {
     "name": "stdout",
     "output_type": "stream",
     "text": [
      "              precision    recall  f1-score   support\n",
      "\n",
      "       10001       0.58      0.66      0.62        32\n",
      "       10002       0.25      0.50      0.33         4\n",
      "       10003       0.68      0.60      0.64        73\n",
      "       10004       0.38      0.50      0.43        12\n",
      "       10005       0.39      0.32      0.35        22\n",
      "\n",
      "   micro avg       0.56      0.56      0.56       143\n",
      "   macro avg       0.45      0.52      0.47       143\n",
      "weighted avg       0.57      0.56      0.56       143\n",
      "\n",
      "[[21  1  7  1  2]\n",
      " [ 0  2  1  1  0]\n",
      " [13  4 44  4  8]\n",
      " [ 1  0  4  6  1]\n",
      " [ 1  1  9  4  7]]\n"
     ]
    }
   ],
   "source": [
    "print(classification_report(y_test,predictions))\n",
    "print(confusion_matrix(y_test,predictions))"
   ]
  },
  {
   "cell_type": "code",
   "execution_count": 13,
   "metadata": {},
   "outputs": [],
   "source": [
    "from sklearn.ensemble import RandomForestClassifier"
   ]
  },
  {
   "cell_type": "code",
   "execution_count": 14,
   "metadata": {},
   "outputs": [],
   "source": [
    "rfc = RandomForestClassifier(n_estimators=100)\n",
    "\n",
    "#從訓練組資料中建立隨機森林模型\n",
    "rfc.fit(X_train, y_train)\n",
    "\n",
    "#預測測試組的駝背是否發生\n",
    "rfc_pred = rfc.predict(x_test)"
   ]
  },
  {
   "cell_type": "code",
   "execution_count": null,
   "metadata": {},
   "outputs": [],
   "source": []
  },
  {
   "cell_type": "code",
   "execution_count": 16,
   "metadata": {},
   "outputs": [
    {
     "name": "stdout",
     "output_type": "stream",
     "text": [
      "[[26  0  6  0  0]\n",
      " [ 0  2  1  1  0]\n",
      " [11  0 58  2  2]\n",
      " [ 2  0  5  3  2]\n",
      " [ 3  0  8  5  6]]\n",
      "              precision    recall  f1-score   support\n",
      "\n",
      "       10001       0.62      0.81      0.70        32\n",
      "       10002       1.00      0.50      0.67         4\n",
      "       10003       0.74      0.79      0.77        73\n",
      "       10004       0.27      0.25      0.26        12\n",
      "       10005       0.60      0.27      0.37        22\n",
      "\n",
      "   micro avg       0.66      0.66      0.66       143\n",
      "   macro avg       0.65      0.53      0.55       143\n",
      "weighted avg       0.66      0.66      0.65       143\n",
      "\n"
     ]
    }
   ],
   "source": [
    "print(confusion_matrix(y_test,rfc_pred))\n",
    "\n",
    "#利用classification_report來看precision、recall、f1-score、support\n",
    "print(classification_report(y_test,rfc_pred))"
   ]
  },
  {
   "cell_type": "code",
   "execution_count": 18,
   "metadata": {},
   "outputs": [],
   "source": [
    "from sklearn import neighbors"
   ]
  },
  {
   "cell_type": "code",
   "execution_count": 19,
   "metadata": {},
   "outputs": [],
   "source": [
    "clf = neighbors.KNeighborsClassifier()"
   ]
  },
  {
   "cell_type": "code",
   "execution_count": 20,
   "metadata": {},
   "outputs": [],
   "source": [
    "cclf = clf.fit(X_train,y_train)"
   ]
  },
  {
   "cell_type": "code",
   "execution_count": 21,
   "metadata": {},
   "outputs": [],
   "source": [
    "clf_pred = clf.predict(x_test)"
   ]
  },
  {
   "cell_type": "code",
   "execution_count": 22,
   "metadata": {},
   "outputs": [
    {
     "name": "stdout",
     "output_type": "stream",
     "text": [
      "[[24  0  8  0  0]\n",
      " [ 0  2  1  1  0]\n",
      " [10  4 56  1  2]\n",
      " [ 3  1  5  1  2]\n",
      " [ 4  0  9  0  9]]\n",
      "              precision    recall  f1-score   support\n",
      "\n",
      "       10001       0.59      0.75      0.66        32\n",
      "       10002       0.29      0.50      0.36         4\n",
      "       10003       0.71      0.77      0.74        73\n",
      "       10004       0.33      0.08      0.13        12\n",
      "       10005       0.69      0.41      0.51        22\n",
      "\n",
      "   micro avg       0.64      0.64      0.64       143\n",
      "   macro avg       0.52      0.50      0.48       143\n",
      "weighted avg       0.64      0.64      0.62       143\n",
      "\n"
     ]
    }
   ],
   "source": [
    "print(confusion_matrix(y_test,clf_pred))\n",
    "\n",
    "#利用classification_report來看precision、recall、f1-score、support\n",
    "print(classification_report(y_test,clf_pred))"
   ]
  }
 ],
 "metadata": {
  "kernelspec": {
   "display_name": "Python 3",
   "language": "python",
   "name": "python3"
  },
  "language_info": {
   "codemirror_mode": {
    "name": "ipython",
    "version": 3
   },
   "file_extension": ".py",
   "mimetype": "text/x-python",
   "name": "python",
   "nbconvert_exporter": "python",
   "pygments_lexer": "ipython3",
   "version": "3.7.2"
  }
 },
 "nbformat": 4,
 "nbformat_minor": 2
}
